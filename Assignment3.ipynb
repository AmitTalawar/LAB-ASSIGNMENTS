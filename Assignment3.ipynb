{
  "nbformat": 4,
  "nbformat_minor": 0,
  "metadata": {
    "colab": {
      "name": "Assignment3.ipynb",
      "provenance": [],
      "collapsed_sections": [],
      "authorship_tag": "ABX9TyP256upWGSMYlKG10bXrbml"
    },
    "kernelspec": {
      "name": "python3",
      "display_name": "Python 3"
    },
    "language_info": {
      "name": "python"
    }
  },
  "cells": [
    {
      "cell_type": "markdown",
      "metadata": {
        "id": "Qw8oHeng5Lsx"
      },
      "source": [
        "#OOP TASK - 3"
      ]
    },
    {
      "cell_type": "markdown",
      "metadata": {
        "id": "7OmvRhJU5HaZ"
      },
      "source": [
        "##Problem 1"
      ]
    },
    {
      "cell_type": "code",
      "metadata": {
        "colab": {
          "base_uri": "https://localhost:8080/",
          "height": 0
        },
        "id": "4eY5ZR01mM-F",
        "outputId": "9a100ccf-f562-404c-a868-ba44187e0248"
      },
      "source": [
        "class Student:\n",
        "    def setData(self):\n",
        "        self.name = input(\"Enter the name of student : \")\n",
        "        self.regNo = int(input(\"Enter the Reg No. : \"))\n",
        "        self.age = int(input(\"Enter the age : \"))\n",
        "        self.gender = input(\"Enter Gender : \")\n",
        "        self.branch = input(\"Enter Branch : \")\n",
        "        self.sem = int(input(\"Enter the current sem : \"))\n",
        "\n",
        "    def getData(self):\n",
        "        print(f\"\\nName : {self.name} \\nReg No. : {self.regNo} \\nAge : {self.age} \\nGender : {self.gender} \\nBranch : {self.branch} \\nSemester : {self.sem}\")\n",
        "\n",
        "class StudentResultInfo(Student):\n",
        "    def setData(self):\n",
        "        Student.setData(self)\n",
        "        self.totalMarks = int(input(\"Enter total marks : \"))\n",
        "        self.percentage = float(input(\"Enter percentage : \"))\n",
        "        self.grade = input(\"Enter grade : \")\n",
        "\n",
        "    def getData(self):\n",
        "        Student.getData(self)\n",
        "        print(f\"Total Marks : {self.totalMarks} \\nPercentage : {self.percentage} \\nGrade : {self.grade}\")\n",
        "\n",
        "stud1 = StudentResultInfo()\n",
        "stud1.setData()\n",
        "stud1.getData()"
      ],
      "execution_count": 3,
      "outputs": [
        {
          "output_type": "stream",
          "name": "stdout",
          "text": [
            "Enter the name of student : Amit T\n",
            "Enter the Reg No. : 11\n",
            "Enter the age : 19\n",
            "Enter Gender : Male\n",
            "Enter Branch : CSE\n",
            "Enter the current sem : 3\n",
            "Enter total marks : 280\n",
            "Enter percentage : 85.67\n",
            "Enter grade : A-\n",
            "\n",
            "Name : Amit T \n",
            "Reg No. : 11 \n",
            "Age : 19 \n",
            "Gender : Male \n",
            "Branch : CSE \n",
            "Semester : 3\n",
            "Total Marks : 280 \n",
            "Percentage : 85.67 \n",
            "Grade : A-\n"
          ]
        }
      ]
    },
    {
      "cell_type": "markdown",
      "metadata": {
        "id": "-6_hiN8P5Wox"
      },
      "source": [
        "##Problem 2"
      ]
    },
    {
      "cell_type": "code",
      "metadata": {
        "colab": {
          "base_uri": "https://localhost:8080/",
          "height": 0
        },
        "id": "2Ug3HdNqpu-U",
        "outputId": "dba72a11-45fe-4b7f-be76-41c8a5d575d4"
      },
      "source": [
        "class PDF:\n",
        "    maxSize = 6000\n",
        "    def __init__(self):\n",
        "        self.creator = input(\"Enter the name of creator  : \")\n",
        "        self.description = input(\"Enter the description of the PDF : \")\n",
        "        self.fileSize = int(input(\"Enter file size (Kb) : \"))\n",
        "\n",
        "    def displayDetails(self):\n",
        "        print(f\"Creator : {self.creator} \\nDescription : {self.description} \\nFile Size : {self.fileSize}\")\n",
        "\n",
        "    def checkSize(self):\n",
        "        if self.maxSize < self.fileSize:\n",
        "            print(\"File size is beyond threshold\")\n",
        "\n",
        "\n",
        "class Pictures:\n",
        "    maxDimensions = [1280, 720]\n",
        "    maxSize = 5000\n",
        "    def __init__(self):\n",
        "        self.creator = input(\"Enter the name of creator : \")\n",
        "        self.description = input(\"Enter the description of the image : \")\n",
        "        self.imgDimensions = input(\"Enter image dimensions with space bw : \").split(\" \")\n",
        "        self.fileSize = int(input(\"Enter file size (Kb) : \"))\n",
        "\n",
        "    def displayDetails(self):\n",
        "        print(f\"Creator : {self.creator} \\nDescription : {self.description} \\nImage Dimensions : {self.imgDimensions} \\nFile Size : {self.fileSize}\")\n",
        "\n",
        "    def checkDimensions(self):\n",
        "        if self.maxDimensions[0] < int(self.imgDimensions[0]) or self.maxDimensions[1] < int(self.imgDimensions[1]):\n",
        "            print(\"Image Dimensions is too high\")\n",
        "\n",
        "    def checkSize(self):\n",
        "        if self.fileSize > self.maxSize:\n",
        "            print(\"File size is beyond threshold\")\n",
        "\n",
        "\n",
        "class CMS(PDF, Pictures):\n",
        "    def __init__(self):\n",
        "        self.PDFlist = []\n",
        "        self.PicturesList = []\n",
        "    \n",
        "    def addPDF(self):\n",
        "        temp = PDF()\n",
        "        self.PDFlist.append(temp)\n",
        "\n",
        "    def addPictures(self):\n",
        "        temp = Pictures()\n",
        "        self.PicturesList.append(temp)\n",
        "\n",
        "    def displayDetails(self):\n",
        "        print(\"PDF details : \")\n",
        "        for element in self.PDFlist:\n",
        "            element.displayDetails()\n",
        "\n",
        "        print(\"Pictures Details : \")\n",
        "        for element in self.PicturesList:\n",
        "            element.displayDetails()\n",
        "\n",
        "    \n",
        "cms1 = CMS()\n",
        "cms1.addPDF()\n",
        "cms1.addPictures()\n",
        "cms1.addPDF()\n",
        "cms1.addPictures()\n",
        "cms1.displayDetails()\n",
        "cms1.PDFlist[1].checkSize()\n",
        "cms1.PicturesList[1].checkSize()\n",
        "cms1.PicturesList[1].checkDimensions()"
      ],
      "execution_count": 10,
      "outputs": [
        {
          "output_type": "stream",
          "name": "stdout",
          "text": [
            "Enter the name of creator  : amit t\n",
            "Enter the description of the PDF : maths\n",
            "Enter file size (Kb) : 2000\n",
            "Enter the name of creator : pratham\n",
            "Enter the description of the image : scenery\n",
            "Enter image dimensions with space bw : 720 480\n",
            "Enter file size (Kb) : 3000\n",
            "Enter the name of creator  : udit\n",
            "Enter the description of the PDF : robotics\n",
            "Enter file size (Kb) : 7000\n",
            "Enter the name of creator : rohit\n",
            "Enter the description of the image : portrait\n",
            "Enter image dimensions with space bw : 1440 720\n",
            "Enter file size (Kb) : 9000\n",
            "PDF details : \n",
            "Creator : amit t \n",
            "Description : maths \n",
            "File Size : 2000\n",
            "Creator : udit \n",
            "Description : robotics \n",
            "File Size : 7000\n",
            "Pictures Details : \n",
            "Creator : pratham \n",
            "Description : scenery \n",
            "Image Dimensions : ['720', '480'] \n",
            "File Size : 3000\n",
            "Creator : rohit \n",
            "Description : portrait \n",
            "Image Dimensions : ['1440', '720'] \n",
            "File Size : 9000\n",
            "File size is beyond threshold : \n",
            "File size is beyond threshold : \n",
            "Image Dimensions is too high\n"
          ]
        }
      ]
    },
    {
      "cell_type": "markdown",
      "metadata": {
        "id": "fovxNvYB5Zbx"
      },
      "source": [
        "##Problem 3"
      ]
    },
    {
      "cell_type": "code",
      "metadata": {
        "colab": {
          "base_uri": "https://localhost:8080/",
          "height": 0
        },
        "id": "6PxNlGi40CO7",
        "outputId": "fbd7165b-d804-404c-dfc2-ff0b26d361fe"
      },
      "source": [
        "class Vehicle:\n",
        "    def __init__(self, name, mileage, capacity):\n",
        "        self.name = name\n",
        "        self.mileage = mileage\n",
        "        self.capacity = capacity\n",
        "\n",
        "    def fare(self):\n",
        "        return self.capacity * 100\n",
        "\n",
        "class Bus(Vehicle):\n",
        "    def __init__(self, name, mileage, capacity=50):\n",
        "        Vehicle.__init__(self, name, mileage, capacity)\n",
        "        self.finalAmount = Vehicle.fare(self) * 1.1\n",
        "\n",
        "    def busFare(self):\n",
        "        print(f\"Total Fare : {self.finalAmount}\")\n",
        "\n",
        "car1 = Vehicle(\"Sedan\", 18, 5)\n",
        "print(f\"Car Fare : {car1.fare()}\")\n",
        "bus1 = Bus(\"Rajahamsa\", 5, 50)\n",
        "bus1.busFare()"
      ],
      "execution_count": 17,
      "outputs": [
        {
          "output_type": "stream",
          "name": "stdout",
          "text": [
            "Car Fare : 500\n",
            "Total Fare : 5500.0\n"
          ]
        }
      ]
    }
  ]
}