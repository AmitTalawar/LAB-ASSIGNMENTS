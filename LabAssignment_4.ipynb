{
  "nbformat": 4,
  "nbformat_minor": 0,
  "metadata": {
    "colab": {
      "name": "OOP_Task_4.ipynb",
      "provenance": [],
      "authorship_tag": "ABX9TyNo4Aabe1lpOHDFbIbttGLG"
    },
    "kernelspec": {
      "name": "python3",
      "display_name": "Python 3"
    },
    "language_info": {
      "name": "python"
    }
  },
  "cells": [
    {
      "cell_type": "markdown",
      "metadata": {
        "id": "FTcT2X8BfgeJ"
      },
      "source": [
        "#OOP LAB 4"
      ]
    },
    {
      "cell_type": "markdown",
      "metadata": {
        "id": "rHyH3vjgfrIY"
      },
      "source": [
        "##Question 1\n",
        "####Write a python code to create a class node with data and address of next node as parameters. Derive stack class from node class with top position or head node position as a parameter and also perform the following operations.\n",
        "#####a. Check stack is empty\n",
        "#####b. Add data to stack\n",
        "#####c. Delete data from the stack.\n",
        "#####d. Display the elements of the stack.\n",
        "#####e. Deallocate the memory assigned to each node using destructors."
      ]
    },
    {
      "cell_type": "code",
      "metadata": {
        "colab": {
          "base_uri": "https://localhost:8080/"
        },
        "id": "2qmPudgVfWEe",
        "outputId": "c20cd63d-0404-48e6-a86d-3fa3aa1095c3"
      },
      "source": [
        "class Node:\n",
        "    def __init__(self, data):\n",
        "        self.data = data\n",
        "        self.next = None\n",
        "    \n",
        "    def __del__(self):\n",
        "        print(f\"Element {self.data} deleted\")\n",
        "\n",
        "class Stack(Node):\n",
        "    def __init__(self):\n",
        "        self.head = Node(None)\n",
        "        self.size = 0\n",
        "\n",
        "    def isEmpty(self):\n",
        "        return self.size == 0\n",
        "\n",
        "    def push(self, data):\n",
        "        temp = Node(data)\n",
        "        temp.next = self.head.next\n",
        "        self.head.next = temp\n",
        "        self.size += 1\n",
        "    \n",
        "    def pop(self):\n",
        "        if self.isEmpty():\n",
        "            print(\"Stack Empty\")\n",
        "        delete = self.head.next\n",
        "        self.head.next = self.head.next.next\n",
        "        self.size -= 1\n",
        "        return delete.data\n",
        "\n",
        "    def displayStack(self):\n",
        "        iter = self.head.next\n",
        "        print(\"Stack : \", end=\"\")\n",
        "        while iter:\n",
        "            print(iter.data, end=\"\\t\")\n",
        "            iter = iter.next\n",
        "        print()\n",
        "\n",
        "    def __del__(self):\n",
        "        if not self.isEmpty():\n",
        "            iter = self.head\n",
        "            while iter:\n",
        "                temp = iter.next\n",
        "                del iter\n",
        "                self.size -= 1\n",
        "                iter = temp              \n",
        "\n",
        "s = Stack()\n",
        "for i in range(1, 11):\n",
        "    s.push(i)\n",
        "\n",
        "s.displayStack()\n",
        "\n",
        "for i in range(1, 3):\n",
        "    delete = s.pop()\n",
        "    print(f\"Popped element : {delete}\")\n",
        "\n",
        "s.displayStack()"
      ],
      "execution_count": 6,
      "outputs": [
        {
          "output_type": "stream",
          "name": "stdout",
          "text": [
            "Stack : 10\t9\t8\t7\t6\t5\t4\t3\t2\t1\t\n",
            "Element 10 deleted\n",
            "Popped element : 10\n",
            "Element 9 deleted\n",
            "Popped element : 9\n",
            "Stack : 8\t7\t6\t5\t4\t3\t2\t1\t\n"
          ]
        }
      ]
    },
    {
      "cell_type": "markdown",
      "metadata": {
        "id": "lWNxskuR21WV"
      },
      "source": [
        "##Question 2\n",
        "####Write a python code to calculate the area of a rectangle using parametrized and default constructors."
      ]
    },
    {
      "cell_type": "code",
      "metadata": {
        "colab": {
          "base_uri": "https://localhost:8080/"
        },
        "id": "ZNYAx5Qv23Jc",
        "outputId": "26e5b6f3-e555-451d-9ee8-02e2603c274e"
      },
      "source": [
        "class Rectangle:\n",
        "    def __init__(self):\n",
        "        self.length = 0\n",
        "        self.width = 0\n",
        "\n",
        "    def setData(self, length, width):\n",
        "        self.length = length\n",
        "        self.width = width\n",
        "    \n",
        "    def calcArea(self):\n",
        "        return self.length * self.width\n",
        "\n",
        "class RectangeP:\n",
        "    def __init__(self, length, width):\n",
        "        self.length = length\n",
        "        self.width = width\n",
        "\n",
        "    def calcArea(self):\n",
        "        return self.length * self.width\n",
        "\n",
        "r1 = Rectangle()\n",
        "r1.setData(10, 20)\n",
        "print(f\"Area of default constructor rectange : {r1.calcArea()}\")\n",
        "r2 = RectangeP(30, 40)\n",
        "print(f\"Area of parameterized constructor rectange : {r2.calcArea()}\")"
      ],
      "execution_count": 3,
      "outputs": [
        {
          "output_type": "stream",
          "name": "stdout",
          "text": [
            "Area of default constructor rectange : 200\n",
            "Area of parameterized constructor rectange : 1200\n"
          ]
        }
      ]
    },
    {
      "cell_type": "markdown",
      "metadata": {
        "id": "4heGKfEX3Jxl"
      },
      "source": [
        "##Question 3\n",
        "####Write a python program to implement queue operations using constructors and destructors."
      ]
    },
    {
      "cell_type": "code",
      "metadata": {
        "colab": {
          "base_uri": "https://localhost:8080/"
        },
        "id": "qHtkVYh83LaM",
        "outputId": "674191cf-2ff0-4090-f4f3-3153ce241d2f"
      },
      "source": [
        "class Queue:\n",
        "    def __init__(self):\n",
        "        self.queue = []\n",
        "\n",
        "    def isEmpty(self):\n",
        "        return self.queue == []\n",
        "\n",
        "    def enqueue(self, data):\n",
        "        self.queue.append(data)\n",
        "\n",
        "    def dequeue(self):\n",
        "        return self.queue.pop(0)\n",
        "\n",
        "    def displayQueue(self):\n",
        "        print(f\"Queue : {self.queue}\")\n",
        "\n",
        "    def __del__(self):\n",
        "        print(\"Queue deleted\")\n",
        "\n",
        "q = Queue()\n",
        "for i in range(0, 11):\n",
        "    q.enqueue(i)\n",
        "\n",
        "q.displayQueue()\n",
        "\n",
        "for i in range(1, 4):\n",
        "    print(f\"Value Dequeued : {q.dequeue()}\")\n",
        "\n",
        "q.displayQueue()"
      ],
      "execution_count": 5,
      "outputs": [
        {
          "output_type": "stream",
          "name": "stdout",
          "text": [
            "Queue deleted\n",
            "Queue : [0, 1, 2, 3, 4, 5, 6, 7, 8, 9, 10]\n",
            "Value Dequeued : 0\n",
            "Value Dequeued : 1\n",
            "Value Dequeued : 2\n",
            "Queue : [3, 4, 5, 6, 7, 8, 9, 10]\n",
            "Queue deleted\n"
          ]
        }
      ]
    }
  ]
}