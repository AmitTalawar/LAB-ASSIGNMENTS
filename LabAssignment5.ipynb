{
  "nbformat": 4,
  "nbformat_minor": 0,
  "metadata": {
    "colab": {
      "name": "LabAssignment5.ipynb",
      "provenance": [],
      "authorship_tag": "ABX9TyO7H5gzG4GsfmrR8gFQXi6A"
    },
    "kernelspec": {
      "name": "python3",
      "display_name": "Python 3"
    },
    "language_info": {
      "name": "python"
    }
  },
  "cells": [
    {
      "cell_type": "markdown",
      "metadata": {
        "id": "PbMeFtUiG8rV"
      },
      "source": [
        "#OOP Task 5\n",
        "##Problem 1\n",
        "###Write a Python programme to create the parent class shape, derive the subclasses circle, square, and rectangle from the class shape, and demonstrate polymorphism in inheritance using a member function area ()."
      ]
    },
    {
      "cell_type": "code",
      "metadata": {
        "colab": {
          "base_uri": "https://localhost:8080/"
        },
        "id": "gKWTKGKFGVWk",
        "outputId": "07b97b30-9dea-4fc5-956f-2779de2770a8"
      },
      "source": [
        "from math import pi\n",
        "\n",
        "class Shape:\n",
        "    def area(self):\n",
        "        pass\n",
        "\n",
        "\n",
        "class Circle(Shape):\n",
        "    def __init__(self, radius):\n",
        "        self.radius = radius\n",
        "\n",
        "    def area(self):\n",
        "        return (pi * self.radius * self.radius)\n",
        "\n",
        "\n",
        "class Square(Shape):\n",
        "    def __init__(self, side):\n",
        "        self.side = side\n",
        "\n",
        "    def area(self):\n",
        "        return (self.side * self.side)\n",
        "\n",
        "\n",
        "class Rectangle(Shape):\n",
        "    def __init__(self, length, breadth):\n",
        "        self.length = length\n",
        "        self.breadth = breadth\n",
        "\n",
        "    def area(self):\n",
        "        return (self.length * self.breadth)\n",
        "\n",
        "\n",
        "c1 = Circle(7)\n",
        "print(f\"Area of Circle : {round(c1.area(), 2)}\")\n",
        "\n",
        "s1 = Square(5)\n",
        "print(f\"Area of Square : {s1.area()}\")\n",
        "\n",
        "r1 = Rectangle(10, 5)\n",
        "print(f\"Area of Rectangle : {r1.area()}\")\n"
      ],
      "execution_count": 1,
      "outputs": [
        {
          "output_type": "stream",
          "name": "stdout",
          "text": [
            "Area of Circle : 153.94\n",
            "Area of Square : 25\n",
            "Area of Rectangle : 50\n"
          ]
        }
      ]
    },
    {
      "cell_type": "markdown",
      "metadata": {
        "id": "KHmdjG7vHat1"
      },
      "source": [
        "##Problem 2\n",
        "###The family has decided to travel by road from Dharwad to Belagavi, and they have chosen to estimate the cost before starting on this journey. Write python code to create the parent class Travel with member functions include the number of passengers, the distance travelled, and the mode of transportation. Derive two subclasses, train and bus, from the parent class, each with a member function that calculates the cost of trip. Also, keep the numbers of passengers as a private member of the parent class and try to access it through the child class to estimate costs.\n",
        "####[Note: Assume cost of travelling/person through train = 60 rs, cost of travelling /person through bus= 100 rs]."
      ]
    },
    {
      "cell_type": "code",
      "metadata": {
        "colab": {
          "base_uri": "https://localhost:8080/"
        },
        "id": "3sxNbB1NGr3e",
        "outputId": "5c370c16-fe12-48a8-e492-460d9228bb49"
      },
      "source": [
        "class Travel:\n",
        "    def __init__(self, passengers, distance, mode):\n",
        "        self.__passengers = passengers\n",
        "        self.distance = distance\n",
        "        self.mode = mode\n",
        "\n",
        "    def getPassengers(self):\n",
        "        return self.__passengers\n",
        "\n",
        "class Train(Travel):\n",
        "    def costOfTrip(self):\n",
        "        self.costPerPerson = 60\n",
        "        return (self.getPassengers() * self.costPerPerson)\n",
        "\n",
        "\n",
        "class Bus(Travel):\n",
        "    def costOfTrip(self):\n",
        "        self.costPerPerson = 100\n",
        "        return (self.getPassengers() * self.costPerPerson)\n",
        "\n",
        "\n",
        "t1 = Train(5, 60, \"Train\")\n",
        "print(f\"Cost to travel from Train : {t1.costOfTrip()}\")\n",
        "\n",
        "b1 = Bus(5, 60, \"Bus\")\n",
        "print(f\"Cost to travel from Bus : {b1.costOfTrip()}\")\n"
      ],
      "execution_count": 2,
      "outputs": [
        {
          "output_type": "stream",
          "name": "stdout",
          "text": [
            "Cost to travel from Train : 300\n",
            "Cost to travel from Bus : 500\n"
          ]
        }
      ]
    },
    {
      "cell_type": "markdown",
      "metadata": {
        "id": "GuBO79IrHqf2"
      },
      "source": [
        "##Problem 3\n",
        "###Assume that there a class Car with model number as its member variable. Write a python program to swap the values of model number in Car objects c1 and c2."
      ]
    },
    {
      "cell_type": "code",
      "metadata": {
        "colab": {
          "base_uri": "https://localhost:8080/"
        },
        "id": "rEkJveFHGv-V",
        "outputId": "76c0b442-2b30-420e-e56d-c1a95cd27e71"
      },
      "source": [
        "def swapModels(obj1, obj2):\n",
        "    obj1.modelNumber, obj2.modelNumber = obj2.modelNumber, obj1.modelNumber\n",
        "\n",
        "class Car:\n",
        "    def __init__(self, modelNumber):\n",
        "        self.modelNumber = modelNumber\n",
        "\n",
        "c1 = Car(\"1AC2021\")\n",
        "c2 = Car(\"3FG2018\")\n",
        "\n",
        "print(f'''Model numbers before swapping \n",
        "C1's Model Number : {c1.modelNumber} \n",
        "C2's Model Number : {c2.modelNumber}''')\n",
        "\n",
        "swapModels(c1, c2)\n",
        "\n",
        "print(f'''\\nModel numbers after swapping \n",
        "C1's Model Number : {c1.modelNumber} \n",
        "C2's Model Number : {c2.modelNumber}''')\n"
      ],
      "execution_count": 8,
      "outputs": [
        {
          "output_type": "stream",
          "name": "stdout",
          "text": [
            "Model numbers before swapping \n",
            "C1's Model Number : 1AC2021 \n",
            "C2's Model Number : 3FG2018\n",
            "\n",
            "Model numbers after swapping \n",
            "C1's Model Number : 3FG2018 \n",
            "C2's Model Number : 1AC2021\n"
          ]
        }
      ]
    }
  ]
}