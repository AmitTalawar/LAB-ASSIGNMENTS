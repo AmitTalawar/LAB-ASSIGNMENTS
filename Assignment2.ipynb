{
  "nbformat": 4,
  "nbformat_minor": 0,
  "metadata": {
    "colab": {
      "name": "Assignment2.ipynb",
      "provenance": [],
      "authorship_tag": "ABX9TyNUUnZaUBA8UeNPa9SKZAhr"
    },
    "kernelspec": {
      "name": "python3",
      "display_name": "Python 3"
    },
    "language_info": {
      "name": "python"
    }
  },
  "cells": [
    {
      "cell_type": "markdown",
      "metadata": {
        "id": "RGO-0ZPvxOv3"
      },
      "source": [
        "#Lab Assignment 2"
      ]
    },
    {
      "cell_type": "markdown",
      "metadata": {
        "id": "gTt2Iu66xTPA"
      },
      "source": [
        "##Problem 1"
      ]
    },
    {
      "cell_type": "code",
      "metadata": {
        "colab": {
          "base_uri": "https://localhost:8080/"
        },
        "id": "numyPsZGmqAY",
        "outputId": "aa20f396-015b-4d10-ce91-0b81121eb815"
      },
      "source": [
        "import math\n",
        "class Circle:\n",
        "    def __init__(self, radius):\n",
        "        self.radius = radius\n",
        "\n",
        "    def perimeter(self):\n",
        "        return (2 * math.pi * self.radius)\n",
        "\n",
        "    def area(self):\n",
        "        return (math.pi * (self.radius ** 2))\n",
        "\n",
        "c1 = Circle(5)\n",
        "print(c1.perimeter())\n",
        "print(c1.area())"
      ],
      "execution_count": null,
      "outputs": [
        {
          "output_type": "stream",
          "name": "stdout",
          "text": [
            "31.41592653589793\n",
            "78.53981633974483\n"
          ]
        }
      ]
    },
    {
      "cell_type": "markdown",
      "metadata": {
        "id": "SxXWGIKcxWGX"
      },
      "source": [
        "##Problem 2"
      ]
    },
    {
      "cell_type": "code",
      "metadata": {
        "colab": {
          "base_uri": "https://localhost:8080/"
        },
        "id": "I1o28CJNos4P",
        "outputId": "04518f22-59fd-4b9b-dce1-4ba39ff4c78c"
      },
      "source": [
        "class TeachingFaculty:\n",
        "    # def __init__(self, name, emp_ID, branch, salary):\n",
        "    #     self.name = name\n",
        "    #     self.emp_ID = emp_ID\n",
        "    #     self.branch = branch\n",
        "    #     self.salary = salary\n",
        "\n",
        "    def setData(self):\n",
        "        self.name = input(\"Enter the name of the Employee : \") \n",
        "        self.emp_ID = int(input(\"Enter the employee ID : \"))\n",
        "        self.branch = input(\"Enter the branch : \")\n",
        "        self.salary = int(input(\"Enter the salary : \"))\n",
        "\n",
        "    def getData(self):\n",
        "        print(f\"Name : {self.name} \\nEmployee ID : {self.emp_ID} \\nBranch : {self.branch} \\nSalary : {self.salary}\\n\")\n",
        "        return self.name, self.emp_ID, self.branch, self.salary\n",
        "\n",
        "# t1 = TeachingFaculty()\n",
        "listTF = []\n",
        "for i in range(1, 3):\n",
        "    temp = TeachingFaculty()\n",
        "    print(f\"\\nEnter the data for {i}th employee : \")\n",
        "    temp.setData()\n",
        "    listTF.append(temp)\n",
        "\n",
        "for i in range(0, 2):\n",
        "    print(f\"\\nData of {i+1}th employee : \")\n",
        "    listTF[i].getData()\n"
      ],
      "execution_count": null,
      "outputs": [
        {
          "output_type": "stream",
          "name": "stdout",
          "text": [
            "Enter the data for 1th employee : \n",
            "Enter the name of the Employee : amit t\n",
            "Enter the employee ID : 11\n",
            "Enter the branch : cse\n",
            "Enter the salary : 20\n",
            "Enter the data for 2th employee : \n",
            "Enter the name of the Employee : rahul p\n",
            "Enter the employee ID : 12\n",
            "Enter the branch : cse\n",
            "Enter the salary : 2000\n",
            "Data of 1th employee : \n",
            "\n",
            "Name : amit t \n",
            "Employee ID : 11 \n",
            "Branch : cse \n",
            "Salary : 20\n",
            "\n",
            "\n",
            "Data of 2th employee : \n",
            "\n",
            "Name : rahul p \n",
            "Employee ID : 12 \n",
            "Branch : cse \n",
            "Salary : 2000\n",
            "\n",
            "\n"
          ]
        }
      ]
    },
    {
      "cell_type": "markdown",
      "metadata": {
        "id": "wkJsGC1MxYwm"
      },
      "source": [
        "##Problem 3"
      ]
    },
    {
      "cell_type": "code",
      "metadata": {
        "colab": {
          "base_uri": "https://localhost:8080/"
        },
        "id": "WJgIi9FrreKF",
        "outputId": "a09362d8-16b8-4552-ce45-c7eb0077f94c"
      },
      "source": [
        "class Account:\n",
        "    def __init__(self, accNo, accHolder, amount):\n",
        "        self.accountNumber = accNo\n",
        "        self.accountHolder = accHolder\n",
        "        self.accountAmount = amount\n",
        "\n",
        "    def deposit(self):\n",
        "        depAmount = int(input(\"Enter the amount to deposit : \"))\n",
        "        self.accountAmount += depAmount\n",
        "        print(f\"Amount deposited : {depAmount} \\nNew Balance : {self.accountAmount}\")\n",
        "\n",
        "    def withdraw(self):\n",
        "        withAmount = int(input(\"Enter the amount to withdraw : \"))\n",
        "        if withAmount > self.accountAmount:\n",
        "            print(\"Cannot withdraw more than savings.\")\n",
        "            return -1\n",
        "        self.accountAmount -= withAmount\n",
        "        print(f\"Amount withdraw : {withAmount} \\nNew Balance = {self.accountAmount}\")\n",
        "        return withAmount\n",
        "\n",
        "    def checkBalance(self):\n",
        "        print(f\"Balance : {self.accountAmount}\")\n",
        "        return self.accountAmount\n",
        "\n",
        "    def getDetails(self):\n",
        "        print(f\"\\nAccount Number : {self.accountNumber} \\nAccount Holder : {self.accountHolder} \\nBalance : {self.accountAmount}\")\n",
        "        return self.accountNumber, self.accountHolder, self.accountAmount\n",
        "\n",
        "a1 = Account(100, \"AMIT T\", 1000)\n",
        "a1.deposit()\n",
        "withdraw = a1.withdraw()\n",
        "# print(withdraw)\n",
        "balance = a1.checkBalance()\n",
        "# print(balance)\n",
        "details = a1.getDetails()\n",
        "# print(details)"
      ],
      "execution_count": null,
      "outputs": [
        {
          "output_type": "stream",
          "name": "stdout",
          "text": [
            "Enter the amount to deposit : 1000\n",
            "Amount deposited : 1000 \n",
            "New Balance : 2000\n",
            "Enter the amount to withdraw : 100\n",
            "Amount withdraw : 100 \n",
            "New Balance = 1900\n",
            "100\n",
            "Balance : 1900\n",
            "1900\n",
            "\n",
            "Account Number : 100 \n",
            "Account Holder : AMIT T \n",
            "Balance : 1900\n",
            "(100, 'AMIT T', 1900)\n"
          ]
        }
      ]
    },
    {
      "cell_type": "markdown",
      "metadata": {
        "id": "UdYGa5bdxczP"
      },
      "source": [
        "##Problem 4"
      ]
    },
    {
      "cell_type": "code",
      "metadata": {
        "colab": {
          "base_uri": "https://localhost:8080/"
        },
        "id": "5X7Vkdf3u8jO",
        "outputId": "322feafb-dd75-4e1c-9329-2f5feca86b25"
      },
      "source": [
        "class Records:\n",
        "\n",
        "    def setData(self):\n",
        "        self.name = input(\"Enter the name of the student : \")\n",
        "        self.ID = int(input(\"Enter the USN of the student : \"))\n",
        "        self.marks = []\n",
        "        for i in range(1, 4):\n",
        "            marks = input(f\"Enter the marks for subject {i} : \")\n",
        "            self.marks.append(marks)\n",
        "\n",
        "    def getData(self):\n",
        "        print(f\"Name : {self.name} \\nUSN : {self.ID} \\nMarks : \\nSubject 1 : {self.marks[0]} \\nSubject 2 : {self.marks[1]} \\nSubject 3 : {self.marks[2]}\")\n",
        "        return self.name, self.ID, self.marks\n",
        "\n",
        "s1 = Records()\n",
        "s1.setData()\n",
        "list1 = s1.getData()\n",
        "print(list1)"
      ],
      "execution_count": null,
      "outputs": [
        {
          "output_type": "stream",
          "name": "stdout",
          "text": [
            "Enter the name of the student : amit t\n",
            "Enter the USN of the student : 11\n",
            "Enter the marks for subject 1 : 111\n",
            "Enter the marks for subject 2 : 222\n",
            "Enter the marks for subject 3 : 333\n",
            "Name : amit t \n",
            "USN : 11 \n",
            "Marks : \n",
            "Subject 1 : 111 \n",
            "Subject 2 : 222 \n",
            "Subject 3 : 333\n",
            "('amit t', 11, ['111', '222', '333'])\n"
          ]
        }
      ]
    },
    {
      "cell_type": "markdown",
      "metadata": {
        "id": "cDg17yapxfUH"
      },
      "source": [
        "##Problem 5"
      ]
    },
    {
      "cell_type": "code",
      "metadata": {
        "colab": {
          "base_uri": "https://localhost:8080/",
          "height": 556
        },
        "id": "GjDk_vfTvY4C",
        "outputId": "e0136296-019a-4e81-e4df-3422c121dce8"
      },
      "source": [
        "class Patient:\n",
        "    def setData(self):\n",
        "        self.name = input(\"Enter the name of the patient : \")\n",
        "        self.dateOfAdmission = input(\"Enter the date of admission : \")\n",
        "        self.symptoms = input(\"Enter all the symptoms with a space in between : \").split(\" \")\n",
        "        self.oxygenLevel = int(input(\"Enter the oxygen level of the patient : \"))\n",
        "        self.dateOfDischarge = input(\"Enter the date of discharge : \")\n",
        "\n",
        "    def getData(self):\n",
        "        print(f\"\\nName : {self.name} \\nDate of Admission : {self.dateOfAdmission} \\nSymptoms : {self.symptoms} \\nOxygen Level : {self.oxygenLevel} \\nDate of Discharge : {self.dateOfDischarge}\\n\")\n",
        "        return self.name, self.dateOfAdmission, self.symptoms, self.oxygenLevel, self.dateOfDischarge\n",
        "\n",
        "    def checkSeverity(self):\n",
        "        if self.oxygenLevel < 90:\n",
        "            print(\"Patient's condition is severe.\")\n",
        "        else:\n",
        "            print(\"Patient is doing fine.\")\n",
        "\n",
        "\n",
        "class Hospital:    \n",
        "    def __init__(self):\n",
        "        self.listOfPatients = []\n",
        "        self.oxygenSupport = []\n",
        "\n",
        "    def addPatient(self):\n",
        "        temp = Patient()\n",
        "        temp.setData()\n",
        "        if temp.oxygenLevel < 90:\n",
        "            self.oxygenSupport.append(1)\n",
        "        else:\n",
        "            self.oxygenSupport.append(0)\n",
        "        self.listOfPatients.append(temp)\n",
        "\n",
        "    def checkSeverity(self):\n",
        "        name = input(\"Enter the name of the patient : \")\n",
        "        for i in range(0, len(self.listOfPatients)):\n",
        "            if name == self.listOfPatients[i].name:\n",
        "                self.listOfPatients[i].checkSeverity()\n",
        "                return 1\n",
        "        print(\"Patient not found\")\n",
        "\n",
        "\n",
        "    def getOxygenSupport(self):\n",
        "        return self.oxygenSupport.count(1)\n",
        "\n",
        "    def generalWard(self):\n",
        "        return self.oxygenSupport.count(0)\n",
        "\n",
        "    def totalPatients(self):\n",
        "        return len(self.listOfPatients)\n",
        "\n",
        "\n",
        "H1 = Hospital()\n",
        "\n",
        "for i in range(0, 2):\n",
        "    H1.addPatient()\n",
        "    H1.listOfPatients[i].getData()\n",
        "    H1.listOfPatients[i].checkSeverity()\n",
        "\n",
        "print(H1.getOxygenSupport())\n",
        "print(H1.generalWard())\n",
        "print(H1.totalPatients())\n",
        "H1.checkSeverity()\n",
        "\n",
        "'''\n",
        "abc\n",
        "12/04/2020\n",
        "abc efg hijk lmao pqrs\n",
        "85\n",
        "None\n",
        "'''"
      ],
      "execution_count": 5,
      "outputs": [
        {
          "output_type": "stream",
          "name": "stdout",
          "text": [
            "Enter the name of the patient : abc\n",
            "Enter the date of admission : 12/04/2020\n",
            "Enter all the symptoms with a space in between : abc efg hijk lmao pqrs\n",
            "Enter the oxygen level of the patient : 85\n",
            "Enter the date of discharge : None\n",
            "\n",
            "Name : abc \n",
            "Date of Admission : 12/04/2020 \n",
            "Symptoms : ['abc', 'efg', 'hijk', 'lmao', 'pqrs'] \n",
            "Oxygen Level : 85 \n",
            "Date of Discharge : None\n",
            "\n",
            "Patient's condition is severe.\n",
            "Enter the name of the patient : BCD\n",
            "Enter the date of admission : 25-07-202\n",
            "Enter all the symptoms with a space in between : abc efg hijk lmao pqrs\n",
            "Enter the oxygen level of the patient : 99\n",
            "Enter the date of discharge : 31-10-2020\n",
            "\n",
            "Name : BCD \n",
            "Date of Admission : 25-07-202 \n",
            "Symptoms : ['abc', 'efg', 'hijk', 'lmao', 'pqrs'] \n",
            "Oxygen Level : 99 \n",
            "Date of Discharge : 31-10-2020\n",
            "\n",
            "Patient is doing fine.\n",
            "1\n",
            "1\n",
            "2\n",
            "Enter the name of the patient : BCD\n",
            "Patient is doing fine.\n"
          ]
        },
        {
          "output_type": "execute_result",
          "data": {
            "application/vnd.google.colaboratory.intrinsic+json": {
              "type": "string"
            },
            "text/plain": [
              "'\\nabc\\n12/04/2020\\nabc efg hijk lmao pqrs\\n85\\n\\n\\n'"
            ]
          },
          "metadata": {},
          "execution_count": 5
        }
      ]
    },
    {
      "cell_type": "markdown",
      "metadata": {
        "id": "hzAbTSu-xho_"
      },
      "source": [
        "##Problem 6"
      ]
    },
    {
      "cell_type": "code",
      "metadata": {
        "colab": {
          "base_uri": "https://localhost:8080/"
        },
        "id": "O9BjKh5I8Wfk",
        "outputId": "373c10ed-cc2c-4ba8-c040-63083e4f66b2"
      },
      "source": [
        "class Time:\n",
        "    def setToDefault(self):\n",
        "        self.hours = 0\n",
        "        self.minutes = 0\n",
        "        self.seconds = 0\n",
        "\n",
        "    def setToVal(self, hours, minutes, seconds):\n",
        "        if seconds > 59:\n",
        "            tempMinutes = seconds // 60\n",
        "            seconds = seconds % 60\n",
        "            self.seconds = seconds\n",
        "            self.minutes = tempMinutes + minutes\n",
        "        else:\n",
        "            self.seconds = seconds\n",
        "            self.minutes = minutes\n",
        "\n",
        "        if self.minutes > 59:\n",
        "            tempHours = self.minutes // 60\n",
        "            self.minutes = self.minutes % 60\n",
        "            self.hours = tempHours + hours\n",
        "        else:\n",
        "            self.minutes = minutes\n",
        "            self.hours = hours\n",
        "\n",
        "    def displayTime(self):\n",
        "        print(f\"Time : {self.hours}::{self.minutes}::{self.seconds}\")\n",
        "\n",
        "\n",
        "T1 = Time()\n",
        "T1.setToDefault()\n",
        "T1.displayTime()\n",
        "T1.setToVal(20, 59, 59)\n",
        "T1.displayTime()\n",
        "T1.setToVal(20, 140, 250)\n",
        "T1.displayTime()\n",
        "T1.setToVal(20, 140, 50)\n",
        "T1.displayTime()"
      ],
      "execution_count": null,
      "outputs": [
        {
          "output_type": "stream",
          "name": "stdout",
          "text": [
            "Time : 0::0::0\n",
            "Time : 20::59::59\n",
            "Time : 22::24::10\n",
            "Time : 22::20::50\n"
          ]
        }
      ]
    },
    {
      "cell_type": "markdown",
      "metadata": {
        "id": "Sh7tAbU8xlAX"
      },
      "source": [
        "##Problem 7"
      ]
    },
    {
      "cell_type": "code",
      "metadata": {
        "colab": {
          "base_uri": "https://localhost:8080/"
        },
        "id": "TzSeqjcRBNUy",
        "outputId": "6acb1f22-2014-4c85-e965-e6dfa1f15f66"
      },
      "source": [
        "class Student:\n",
        "    def __init__(self, name, age, rollNo):\n",
        "        self.name = name\n",
        "        self.age = age\n",
        "        self.rollNo = rollNo\n",
        "\n",
        "    @classmethod\n",
        "    def compareStudentsAge(cls, std1, std2):\n",
        "        if std1.age == std2.age:\n",
        "            print(\"Age of the students are equal.\")\n",
        "        else:\n",
        "            print(\"Age of the students are not equal.\")\n",
        "\n",
        "std1 = Student(\"Rahul\", 21, 33)\n",
        "std2 = Student(\"Rohit\", 22, 74)\n",
        "\n",
        "Student.compareStudentsAge(std1, std2)"
      ],
      "execution_count": null,
      "outputs": [
        {
          "output_type": "stream",
          "name": "stdout",
          "text": [
            "Age of the students are not equal.\n"
          ]
        }
      ]
    },
    {
      "cell_type": "markdown",
      "metadata": {
        "id": "Swe3Ir9OxnoP"
      },
      "source": [
        "##Problem 8"
      ]
    },
    {
      "cell_type": "code",
      "metadata": {
        "colab": {
          "base_uri": "https://localhost:8080/"
        },
        "id": "SD5XHs5KCbWB",
        "outputId": "401fa50e-cfb4-4a35-8ffe-4fb0747ae97e"
      },
      "source": [
        "class Student:\n",
        "    sem = 3\n",
        "    institute = \"IIIT Dharwad\"\n",
        "    \n",
        "    def setData(self):\n",
        "        self.name = input(\"Enter the name of the student : \")\n",
        "        self.id = int(input(\"Enter the USN of student : \"))\n",
        "\n",
        "    def getInstanceData(self):\n",
        "        print(f\"Name : {self.name} \\nUSN = {self.id}\")\n",
        "\n",
        "    @classmethod\n",
        "    def getClassData(cls):\n",
        "        print(f\"Semester : {cls.sem} \\nInstitute : {cls.institute} \\n\")\n",
        "\n",
        "    @staticmethod\n",
        "    def getExplanation():\n",
        "        print(\"Class variables namely sem and institute are printed using ClassMethod and Instance variables namely name and id are printed using Instance Method\")\n",
        "\n",
        "\n",
        "s1 = Student()\n",
        "s1.setData()\n",
        "s1.getInstanceData()\n",
        "Student.getClassData()\n",
        "Student.getExplanation()"
      ],
      "execution_count": null,
      "outputs": [
        {
          "output_type": "stream",
          "name": "stdout",
          "text": [
            "Enter the name of the student : amit t\n",
            "Enter the USN of student : 11\n",
            "Name : amit t \n",
            "USN = 11\n",
            "Semester : 3 \n",
            "Institute : IIIT Dharwad \n",
            "\n",
            "Class variables namely sem and institute are printed using ClassMethod and Instance variables namely name and id are printed using Instance Method\n"
          ]
        }
      ]
    },
    {
      "cell_type": "markdown",
      "metadata": {
        "id": "Do9E-4VMxqxX"
      },
      "source": [
        "##Problem 9"
      ]
    },
    {
      "cell_type": "code",
      "metadata": {
        "colab": {
          "base_uri": "https://localhost:8080/"
        },
        "id": "T61oSFW7ITGG",
        "outputId": "5d2331c8-265e-4953-f9a0-e62124f55902"
      },
      "source": [
        "class Student:\n",
        "    def setData(self):\n",
        "        self.Name = input(\"Enter the name : \")\n",
        "        self.ID = int(input(\"Enter the Roll Number : \"))\n",
        "        self.sem = int(input(\"Enter the semester number : \"))\n",
        "        self.nLaptop = int(input(\"Enter the number of laptops : \"))\n",
        "        self.listLaptop = []\n",
        "        for i in range (0, self.nLaptop):\n",
        "            tempObj = self.Laptop()\n",
        "            self.listLaptop.append(tempObj)\n",
        "\n",
        "    class Laptop:\n",
        "        def __init__(self):\n",
        "            self.cpu = input(\"Enter the name of the CPU : \")\n",
        "            self.ram = input(\"Enter the RAM of the Laptop : \")\n",
        "            self.hardDisk = input(\"Enter the size of hard disk : \")\n",
        "            self.display = input(\"Enter the display resolution : \")\n",
        "        \n",
        "        def getData(self):\n",
        "            print(f\"\\nCPU : {self.cpu} \\nRAM : {self.ram} \\nHard Disk : {self.hardDisk} \\nDisplay Resolution : {self.display} \\n\")\n",
        "\n",
        "    def getData(self):\n",
        "        print(f\"\\nName : {self.Name} \\nUSN : {self.ID} \\nSemester : {self.sem} \\nNumber of Laptops : {self.nLaptop}\")\n",
        "        for i in range(0, self.nLaptop):\n",
        "            print(f\"Details of {i+1}th laptop : \")\n",
        "            self.listLaptop[i].getData()\n",
        "\n",
        "S1 = Student()\n",
        "S1.setData()\n",
        "S1.getData()"
      ],
      "execution_count": null,
      "outputs": [
        {
          "output_type": "stream",
          "name": "stdout",
          "text": [
            "Enter the name : amit t\n",
            "Enter the Roll Number : 11\n",
            "Enter the semester number : 3\n",
            "Enter the number of laptops : 2\n",
            "Enter the name of the CPU : i5\n",
            "Enter the RAM of the Laptop : 8\n",
            "Enter the size of hard disk : 1\n",
            "Enter the display resolution : 1080\n",
            "Enter the name of the CPU : i7\n",
            "Enter the RAM of the Laptop : 32\n",
            "Enter the size of hard disk : 2\n",
            "Enter the display resolution : 1440\n",
            "Name : amit t \n",
            "USN : 11 \n",
            "Semester : 3 \n",
            "Number of Laptops : 2\n",
            "\n",
            "CPU : i5 \n",
            "RAM : 8 \n",
            "Hard Disk : 1 \n",
            "Display Resolution : 1080 \n",
            "\n",
            "\n",
            "CPU : i7 \n",
            "RAM : 32 \n",
            "Hard Disk : 2 \n",
            "Display Resolution : 1440 \n",
            "\n"
          ]
        }
      ]
    }
  ]
}